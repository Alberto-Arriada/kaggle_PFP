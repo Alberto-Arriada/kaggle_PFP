{
 "cells": [
  {
   "cell_type": "code",
   "execution_count": 3,
   "metadata": {
    "collapsed": true
   },
   "outputs": [
    {
     "ename": "ModuleNotFoundError",
     "evalue": "No module named 'gdcm'",
     "output_type": "error",
     "traceback": [
      "\u001B[1;31m---------------------------------------------------------------------------\u001B[0m",
      "\u001B[1;31mModuleNotFoundError\u001B[0m                       Traceback (most recent call last)",
      "\u001B[1;32m<ipython-input-3-f4062f6fb4e4>\u001B[0m in \u001B[0;36m<module>\u001B[1;34m\u001B[0m\n\u001B[0;32m     18\u001B[0m \u001B[1;32mfrom\u001B[0m \u001B[0mIPython\u001B[0m\u001B[1;33m.\u001B[0m\u001B[0mdisplay\u001B[0m \u001B[1;32mimport\u001B[0m \u001B[0mHTML\u001B[0m\u001B[1;33m\u001B[0m\u001B[1;33m\u001B[0m\u001B[0m\n\u001B[0;32m     19\u001B[0m \u001B[1;33m\u001B[0m\u001B[0m\n\u001B[1;32m---> 20\u001B[1;33m \u001B[1;32mimport\u001B[0m \u001B[0mgdcm\u001B[0m\u001B[1;33m\u001B[0m\u001B[1;33m\u001B[0m\u001B[0m\n\u001B[0m\u001B[0;32m     21\u001B[0m \u001B[1;32mimport\u001B[0m \u001B[0mpydicom\u001B[0m\u001B[1;33m\u001B[0m\u001B[1;33m\u001B[0m\u001B[0m\n\u001B[0;32m     22\u001B[0m \u001B[1;32mimport\u001B[0m \u001B[0mcv2\u001B[0m\u001B[1;33m\u001B[0m\u001B[1;33m\u001B[0m\u001B[0m\n",
      "\u001B[1;31mModuleNotFoundError\u001B[0m: No module named 'gdcm'"
     ]
    }
   ],
   "source": [
    "import warnings\n",
    "warnings.filterwarnings('ignore')\n",
    "import tqdm\n",
    "import os\n",
    "import gc\n",
    "\n",
    "import numpy as np\n",
    "import pandas as pd\n",
    "pd.set_option('display.max_rows', 500)\n",
    "pd.set_option('display.max_columns', 500)\n",
    "pd.set_option('display.width', 1000)\n",
    "\n",
    "from scipy.stats import probplot, mode, linregress\n",
    "\n",
    "import matplotlib.pyplot as plt\n",
    "import matplotlib.animation as animation\n",
    "import seaborn as sns\n",
    "from IPython.display import HTML\n",
    "\n",
    "import gdcm\n",
    "import pydicom\n",
    "import cv2"
   ]
  },
  {
   "cell_type": "code",
   "execution_count": null,
   "outputs": [],
   "source": [
    "df_train = pd.read_csv('../input/osic-pulmonary-fibrosis-progression/train.csv')\n",
    "df_test = pd.read_csv('../input/osic-pulmonary-fibrosis-progression/test.csv')\n",
    "\n",
    "print(f'Training Set Shape = {df_train.shape} - Patients = {df_train[\"Patient\"].nunique()}')\n",
    "print(f'Training Set Memory Usage = {df_train.memory_usage().sum() / 1024 ** 2:.2f} MB')\n",
    "print(f'Test Set Shape = {df_test.shape} - Patients = {df_test[\"Patient\"].nunique()}')\n",
    "print(f'Test Set Memory Usage = {df_test.memory_usage().sum() / 1024 ** 2:.2f} MB')"
   ],
   "metadata": {
    "collapsed": false,
    "pycharm": {
     "name": "#%%\n"
    }
   }
  },
  {
   "cell_type": "code",
   "execution_count": null,
   "outputs": [],
   "source": [
    "df_test"
   ],
   "metadata": {
    "collapsed": false,
    "pycharm": {
     "name": "#%%\n"
    }
   }
  },
  {
   "cell_type": "code",
   "execution_count": null,
   "outputs": [],
   "source": [
    "df_submission = pd.read_csv( '../input/osic-pulmonary-fibrosis-progression/sample_submission.csv' )\n",
    "df_submission"
   ],
   "metadata": {
    "collapsed": false,
    "pycharm": {
     "name": "#%%\n"
    }
   }
  },
  {
   "cell_type": "code",
   "execution_count": null,
   "outputs": [],
   "source": [
    "def laplace_log_likelihood(y_true, y_pred, sigma):\n",
    "    sigma_clipped = np.maximum(sigma, 70)\n",
    "    delta_clipped = np.minimum(np.abs(y_true - y_pred), 1000)\n",
    "    score = - np.sqrt(2) * delta_clipped / sigma_clipped - np.log(np.sqrt(2) * sigma_clipped)\n",
    "    return np.mean(score)\n",
    "\n",
    "laplace_log_likelihood(df_train['FVC'], df_train['FVC'], 70)"
   ],
   "metadata": {
    "collapsed": false,
    "pycharm": {
     "name": "#%%\n"
    }
   }
  },
  {
   "cell_type": "code",
   "execution_count": null,
   "outputs": [],
   "source": [
    "file_path = '../input/osic-pulmonary-fibrosis-progression/train/ID00228637202259965313869/1.dcm'\n",
    "dicom_file = pydicom.dcmread(file_path)\n",
    "\n",
    "print(f'Patient: ID00228637202259965313869 Image: 1.dcm Dataset\\n{\"-\" * 55}\\n\\n{dicom_file}')"
   ],
   "metadata": {
    "collapsed": false,
    "pycharm": {
     "name": "#%%\n"
    }
   }
  },
  {
   "cell_type": "code",
   "execution_count": null,
   "outputs": [],
   "source": [
    "print(f'Accessing Patient Name with DICOM Keyword (PatientName): {dicom_file.PatientName}')\n",
    "print(f'Accessing Patient Name with Tag Number ((0x10, 0x10)): {dicom_file[(0x10, 0x10)].value}')"
   ],
   "metadata": {
    "collapsed": false,
    "pycharm": {
     "name": "#%%\n"
    }
   }
  },
  {
   "cell_type": "code",
   "execution_count": null,
   "outputs": [],
   "source": [
    "dicom_file.dir()"
   ],
   "metadata": {
    "collapsed": false,
    "pycharm": {
     "name": "#%%\n"
    }
   }
  },
  {
   "cell_type": "code",
   "execution_count": null,
   "outputs": [],
   "source": [
    "def load_scan(patient_name):\n",
    "\n",
    "    patient_directory = [pydicom.dcmread(f'../input/osic-pulmonary-fibrosis-progression/train/{patient_name}/{s}') for s in os.listdir(f'../input/osic-pulmonary-fibrosis-progression/train/{patient_name}')]\n",
    "    patient_directory.sort(key=lambda s: float(s.ImagePositionPatient[2]))\n",
    "    patient_slices = np.zeros((len(patient_directory), patient_directory[0].Rows, patient_directory[0].Columns))\n",
    "\n",
    "    for i, s in enumerate(patient_directory):\n",
    "        patient_slices[i] = s.pixel_array\n",
    "\n",
    "    return patient_slices\n",
    "\n",
    "patient = 'ID00228637202259965313869'\n",
    "patient_slices = load_scan(patient)\n",
    "print(f'Patient {patient} CT scan is loaded - Volume Shape: {patient_slices.shape}')"
   ],
   "metadata": {
    "collapsed": false,
    "pycharm": {
     "name": "#%%\n"
    }
   }
  },
  {
   "cell_type": "code",
   "execution_count": null,
   "outputs": [],
   "source": [
    "def get_metadata(patient_name):\n",
    "\n",
    "    patient_directory = [pydicom.dcmread(f'../input/osic-pulmonary-fibrosis-progression/train/{patient_name}/{s}') for s in os.listdir(f'../input/osic-pulmonary-fibrosis-progression/train/{patient_name}')]\n",
    "\n",
    "    try:\n",
    "        patient_directory.sort(key=lambda s: float(s.ImagePositionPatient[2]))\n",
    "        slice_positions = np.round([s.ImagePositionPatient[2] for s in patient_directory], 4)\n",
    "        non_duplicate_idx = np.unique([np.where(slice_position == slice_positions)[0][0] for slice_position in slice_positions])\n",
    "    except AttributeError:\n",
    "        patient_directory.sort(key=lambda s: int(s.InstanceNumber))\n",
    "        instance_numbers = np.array([int(s.InstanceNumber) for s in patient_directory])\n",
    "        non_duplicate_idx = np.unique([np.where(instance_number == instance_numbers)[0][0] for instance_number in instance_numbers])\n",
    "\n",
    "    patient_directory = list(np.array(patient_directory)[non_duplicate_idx])\n",
    "\n",
    "    rows = patient_directory[0].Rows\n",
    "    columns = patient_directory[0].Columns\n",
    "    slices = len(patient_directory)\n",
    "\n",
    "    pixel_spacings = np.zeros((len(patient_directory), 2))\n",
    "    slice_positions = np.zeros((len(patient_directory)))\n",
    "    slice_thicknesses = []\n",
    "\n",
    "    for i, s in enumerate(patient_directory):\n",
    "        slice_thicknesses.append(s.SliceThickness)\n",
    "        try:\n",
    "            pixel_spacings[i, :] = np.array(s.PixelSpacing)\n",
    "        except AttributeError:\n",
    "            pixel_spacings[i, :] = np.nan\n",
    "\n",
    "        try:\n",
    "            slice_positions[i] = s.ImagePositionPatient[2]\n",
    "        except AttributeError:\n",
    "            pass\n",
    "\n",
    "    df_train.loc[df_train['Patient'] == patient_name, 'Rows'] = rows\n",
    "    df_train.loc[df_train['Patient'] == patient_name, 'Columns'] = columns\n",
    "    df_train.loc[df_train['Patient'] == patient_name, 'Slices'] = slices\n",
    "    df_train.loc[df_train['Patient'] == patient_name, 'PixelSpacingX'] = list(np.round(pixel_spacings.mean(axis=0), 3))[0]\n",
    "    df_train.loc[df_train['Patient'] == patient_name, 'PixelSpacingY'] = list(np.round(pixel_spacings.mean(axis=0), 3))[1]\n",
    "    df_train.loc[df_train['Patient'] == patient_name, 'SliceSpacing'] = mode(np.abs(np.diff(np.round(slice_positions, 3))))[0][0]\n",
    "    df_train.loc[df_train['Patient'] == patient_name, 'SliceThickness'] = mode(slice_thicknesses)[0][0]\n",
    "\n",
    "\n",
    "for patient in tqdm.tqdm(df_train['Patient'].unique()):\n",
    "    get_metadata(patient)\n",
    "\n",
    "df_train['Rows'] = df_train['Rows'].astype(np.uint16)\n",
    "df_train['Columns'] = df_train['Columns'].astype(np.uint16)\n",
    "df_train['Slices'] = df_train['Slices'].astype(np.uint16)\n",
    "df_train['SliceShape'] = df_train['Rows'].astype(str) + 'x' + df_train['Columns'].astype(str)\n",
    "df_train['SliceThickness'] = df_train['SliceThickness'].astype(np.float32)\n",
    "df_train['SliceSpacing'] = df_train['SliceSpacing'].astype(np.float32)"
   ],
   "metadata": {
    "collapsed": false,
    "pycharm": {
     "name": "#%%\n"
    }
   }
  },
  {
   "cell_type": "code",
   "execution_count": null,
   "outputs": [],
   "source": [
    "print(f'Slice Counts between 400 and 410\\n{\"-\" * 32}\\n\\n', df_train.groupby('Patient').first().query('400 < Slices < 410')[['Rows', 'Columns', 'Slices', 'PixelSpacingX', 'PixelSpacingY', 'SliceSpacing', 'SliceThickness']], '\\n')\n",
    "df_train.loc[df_train['Patient'] == 'ID00132637202222178761324', 'SliceSpacing'] = 0.7\n",
    "print(f'Slice Counts between 45 and 55\\n{\"-\" * 30}\\n\\n', df_train.groupby('Patient').first().query('45 < Slices < 55')[['Rows', 'Columns', 'Slices', 'PixelSpacingX', 'PixelSpacingY', 'SliceSpacing', 'SliceThickness']])\n",
    "df_train.loc[df_train['Patient'] == 'ID00128637202219474716089', 'SliceSpacing'] = 5.0"
   ],
   "metadata": {
    "collapsed": false,
    "pycharm": {
     "name": "#%%\n"
    }
   }
  },
  {
   "cell_type": "code",
   "execution_count": null,
   "outputs": [],
   "source": [
    "def crop_slice(s):\n",
    "\n",
    "    \"\"\"\n",
    "    Crop frames from slices\n",
    "\n",
    "    Parameters\n",
    "    ----------\n",
    "    s : numpy array, shape = (Rows, Columns)\n",
    "    numpy array of slices with frame\n",
    "\n",
    "    Returns\n",
    "    -------\n",
    "    s_cropped : numpy array, shape = (Rows - All Zero Rows, Columns - All Zero Columns)\n",
    "    numpy array after the all zero rows and columns are dropped\n",
    "    \"\"\"\n",
    "\n",
    "    s_cropped = s[~np.all(s == 0, axis=1)]\n",
    "    s_cropped = s_cropped[:, ~np.all(s_cropped == 0, axis=0)]\n",
    "    return s_cropped"
   ],
   "metadata": {
    "collapsed": false,
    "pycharm": {
     "name": "#%%\n"
    }
   }
  },
  {
   "cell_type": "code",
   "execution_count": null,
   "outputs": [],
   "source": [
    "df_train['VoxelVolume'] = df_train['PixelSpacingX'] * df_train['PixelSpacingY'] * df_train['SliceSpacing']\n",
    "df_train['VoxelCount'] = df_train['Rows'].astype(int) * df_train['Columns'].astype(int) * df_train['Slices'].astype(int)\n",
    "\n",
    "df_train.drop(columns=['SliceShape', 'PixelSpacingX', 'PixelSpacingY', 'SliceSpacing', 'Rows', 'Columns', 'Slices', 'SliceThickness'], inplace=True)\n",
    "\n",
    "df_train.groupby('Patient').first()[['VoxelVolume', 'VoxelCount']].head(10)"
   ],
   "metadata": {
    "collapsed": false,
    "pycharm": {
     "name": "#%%\n"
    }
   }
  }
 ],
 "metadata": {
  "kernelspec": {
   "display_name": "Python 3",
   "language": "python",
   "name": "python3"
  },
  "language_info": {
   "codemirror_mode": {
    "name": "ipython",
    "version": 2
   },
   "file_extension": ".py",
   "mimetype": "text/x-python",
   "name": "python",
   "nbconvert_exporter": "python",
   "pygments_lexer": "ipython2",
   "version": "2.7.6"
  }
 },
 "nbformat": 4,
 "nbformat_minor": 0
}